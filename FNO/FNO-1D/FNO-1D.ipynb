{
 "cells": [
  {
   "cell_type": "markdown",
   "metadata": {},
   "source": [
    "# Hands-on tutorials - Fourier Neural Operator\n"
   ]
  },
  {
   "cell_type": "code",
   "execution_count": 1,
   "metadata": {},
   "outputs": [
    {
     "name": "stderr",
     "output_type": "stream",
     "text": [
      "/home/xxd5545/.conda/envs/torch2/lib/python3.9/site-packages/tqdm/auto.py:21: TqdmWarning: IProgress not found. Please update jupyter and ipywidgets. See https://ipywidgets.readthedocs.io/en/stable/user_install.html\n",
      "  from .autonotebook import tqdm as notebook_tqdm\n"
     ]
    }
   ],
   "source": [
    "import numpy as np\n",
    "import torch\n",
    "import torch.nn as nn\n",
    "import torch.nn.functional as F\n",
    "from torch.nn.parameter import Parameter\n",
    "import matplotlib.pyplot as plt\n",
    "from scipy.io import loadmat\n",
    "\n",
    "import os\n",
    "import time\n",
    "import operator\n",
    "from functools import reduce\n",
    "from functools import partial\n",
    "from timeit import default_timer\n",
    "from utilities3 import *\n",
    "import scipy\n",
    "\n",
    "seed = 0\n",
    "torch.manual_seed(seed)\n",
    "np.random.seed(seed)"
   ]
  },
  {
   "cell_type": "markdown",
   "metadata": {},
   "source": [
    "### Define FNO model"
   ]
  },
  {
   "cell_type": "code",
   "execution_count": 2,
   "metadata": {},
   "outputs": [],
   "source": [
    "class SpectralConv1d(nn.Module):\n",
    "    \"\"\"\n",
    "    Spectral Convolutional 1D Layer.\n",
    "\n",
    "    Args:\n",
    "        in_channels (int): Number of input channels.\n",
    "        out_channels (int): Number of output channels.\n",
    "        modes1 (int): Number of Fourier modes to multiply, at most floor(N/2) + 1.\n",
    "\n",
    "    Attributes:\n",
    "        in_channels (int): Number of input channels.\n",
    "        out_channels (int): Number of output channels.\n",
    "        modes1 (int): Number of Fourier modes to multiply, at most floor(N/2) + 1.\n",
    "        scale (float): Scaling factor for the weights.\n",
    "        weights1 (nn.Parameter): Learnable weights for the convolution.\n",
    "\n",
    "    Methods:\n",
    "        compl_mul1d(input, weights): Performs complex multiplication between input and weights.\n",
    "        forward(x): Forward pass of the SpectralConv1d layer.\n",
    "    \"\"\"\n",
    "\n",
    "    def __init__(self, in_channels, out_channels, modes1):\n",
    "        super(SpectralConv1d, self).__init__()\n",
    "        self.in_channels = in_channels\n",
    "        self.out_channels = out_channels\n",
    "        self.modes1 = modes1  # Number of Fourier modes are kept, at most floor(N/2) + 1\n",
    "\n",
    "        self.scale = 1 / (in_channels * out_channels)\n",
    "        self.weights1 = nn.Parameter(self.scale * torch.rand(in_channels, out_channels, self.modes1, dtype=torch.cfloat))\n",
    "\n",
    "    def compl_mul1d(self, input, weights):\n",
    "        \"\"\"\n",
    "        Performs complex multiplication between input and weights.\n",
    "\n",
    "        Args:\n",
    "            input (torch.Tensor): Input tensor of shape (batch, in_channel, x).\n",
    "            weights (torch.Tensor): Weights tensor of shape (in_channel, out_channel, x).\n",
    "\n",
    "        Returns:\n",
    "            torch.Tensor: Result of complex multiplication of input and weights, of shape (batch, out_channel, x).\n",
    "        \"\"\"\n",
    "        # (batch, in_channel, x ), (in_channel, out_channel, x) -> (batch, out_channel, x)\n",
    "        # in_channel is the common dimension along which the operation is performed. \n",
    "        # It suggests that every channel (or feature) of the input is being transformed into a new set of channels (or features) in the output.\n",
    "        # The operation iterates over each batch and each position x, multiplying the input channels \n",
    "        # by the corresponding weights and summing the results to produce the output channels.\n",
    "        \n",
    "        # For a given position i in the x dimension and a given batch element:\n",
    "        # Take all values in A at this position and batch (A[batch, :, i]) – a slice of shape (in_channel).\n",
    "        # Take all corresponding values in B at this position (B[:, :, i]) – a matrix of shape (in_channel, out_channel).\n",
    "        # Multiply these values element-wise and sum over the in_channel dimension.\n",
    "        # This produces a vector of shape (out_channel), representing the transformed features at position i for this batch element.\n",
    "        return torch.einsum(\"bix,iox->box\", input, weights)\n",
    "\n",
    "    def forward(self, x):\n",
    "        # Compute Fourier coeffcients\n",
    "        x_ft = torch.fft.rfft(x)  # [Batch, C_in, Nx] -> [Batch, C_in, Nx//2 + 1], eg. [20, 64, 128] -> [20, 64, 65]\n",
    "        \n",
    "        # Multiply relevant Fourier modes\n",
    "        out_ft = torch.zeros(x.shape[0], self.out_channels, x.size(-1)//2 + 1,  device=x.device, dtype=torch.cfloat) # [Batch, Nc, Nx//2 + 1], eg. [20, 64, 65]\n",
    "        # [Batch, C_in, self.modes1] * [C_in, C_out, self.modes1] -> [Batch, C_out, self.modes1]\n",
    "        out_ft[:, :, :self.modes1] = self.compl_mul1d(x_ft[:, :, :self.modes1], self.weights1)  \n",
    "\n",
    "        # Return to physical space\n",
    "        x = torch.fft.irfft(out_ft, n=x.size(-1))  # [Batch, C_out, self.modes1] -> [Batch, C_out, Nx], eg. [20, 64, 65] -> [20, 64, 128]\n",
    "        return x\n",
    "\n",
    "\n",
    "class FNO1d(nn.Module):\n",
    "    def __init__(self, modes, width):\n",
    "        \"\"\"\n",
    "        1D Fourier Neural Operator model.\n",
    "\n",
    "        Args:\n",
    "            modes (int): Number of spectral modes.\n",
    "            width (int): Number of hidden channel.\n",
    "        \"\"\"\n",
    "        super(FNO1d, self).__init__()\n",
    "        self.modes1 = modes\n",
    "        self.width = width\n",
    "        self.fc0 = nn.Linear(2, self.width) # input channel is 2: (a(x), x) MeshgridTensor + initial condition\n",
    "\n",
    "        self.conv0 = SpectralConv1d(self.width, self.width, self.modes1)\n",
    "        self.conv1 = SpectralConv1d(self.width, self.width, self.modes1)\n",
    "        self.conv2 = SpectralConv1d(self.width, self.width, self.modes1)\n",
    "        self.conv3 = SpectralConv1d(self.width, self.width, self.modes1)\n",
    "        \n",
    "        self.w0 = nn.Conv1d(self.width, self.width, 1)\n",
    "        self.w1 = nn.Conv1d(self.width, self.width, 1)\n",
    "        self.w2 = nn.Conv1d(self.width, self.width, 1)\n",
    "        self.w3 = nn.Conv1d(self.width, self.width, 1)\n",
    "\n",
    "        self.fc1 = nn.Linear(self.width, 128)\n",
    "        self.fc2 = nn.Linear(128, 1)\n",
    "\n",
    "    def forward(self, x):\n",
    "        # stage 1: lift the channel from 2 to self.width = 64\n",
    "        x = self.fc0(x)         # [Batch, Nx, C] -> [Batch, Nx, Width], eg. [20, 128, 2] -> [20, 128, 64]\n",
    "        x = x.permute(0, 2, 1)  # [Batch, C, Nx], eg. [20, 64, 128]\n",
    "\n",
    "        # stage 2: integral operators u' = (W + K)(u).\n",
    "        # W is the linear transformation; K is the spectral convolution kernel.\n",
    "        x1 = self.conv0(x)      # [Batch, C, Nx], eg. [20, 64, 128]\n",
    "        x2 = self.w0(x)         # [Batch, C, Nx], eg. [20, 64, 128]\n",
    "        x = x1 + x2\n",
    "        x = F.relu(x)           # [Batch, C, Nx], eg. [20, 64, 128]\n",
    "\n",
    "        x1 = self.conv1(x)\n",
    "        x2 = self.w1(x)\n",
    "        x = x1 + x2\n",
    "        x = F.relu(x)           # [Batch, C, Nx], eg. [20, 64, 128]\n",
    "\n",
    "        x1 = self.conv2(x)\n",
    "        x2 = self.w2(x)\n",
    "        x = x1 + x2\n",
    "        x = F.relu(x)           # [Batch, C, Nx], eg. [20, 64, 128]\n",
    "\n",
    "        x1 = self.conv3(x)\n",
    "        x2 = self.w3(x)\n",
    "        x = x1 + x2             # [Batch, C, Nx], eg. [20, 64, 128]\n",
    "\n",
    "        # stage 3: put the channel back to 1\n",
    "        x = x.permute(0, 2, 1)  # [Batch, Nx, C], eg. [20, 128, 64]\n",
    "        x = self.fc1(x)         # [Batch, Nx, C] -> [Batch, Nx, 128], eg. [20, 128, 64] -> [20, 128, 128]\n",
    "        x = F.relu(x)\n",
    "        x = self.fc2(x)         # [Batch, Nx, C] -> [Batch, Nx, 1], eg. [20, 128, 128] -> [20, 128, 1]\n",
    "        \n",
    "        return x"
   ]
  },
  {
   "cell_type": "markdown",
   "metadata": {},
   "source": [
    "### Configuration"
   ]
  },
  {
   "cell_type": "code",
   "execution_count": 3,
   "metadata": {},
   "outputs": [],
   "source": [
    "class Config():\n",
    "    # num_epoch = 500\n",
    "    num_epoch = 20\n",
    "    lr = 0.001\n",
    "    batch_size = 20\n",
    "    weight_decay = 1e-4\n",
    "    \n",
    "    step_size = 100\n",
    "    gamma = 0.5\n",
    "    \n",
    "    modes = 16\n",
    "    width = 64\n",
    "    \n",
    "    dataset_path = 'dataset/burgers_data_R10.mat'\n",
    "    sub = 8\n",
    "    resolution_original = 2**13\n",
    "    num_train = 1000\n",
    "    num_test = 200\n",
    "    resolution_train = resolution_original // sub\n",
    "    \n",
    "    model_path = 'model/model_burgers_R10'\n",
    "    \n",
    "cfg = Config()"
   ]
  },
  {
   "cell_type": "markdown",
   "metadata": {},
   "source": [
    "### Dataset preparation"
   ]
  },
  {
   "cell_type": "code",
   "execution_count": 4,
   "metadata": {},
   "outputs": [
    {
     "name": "stdout",
     "output_type": "stream",
     "text": [
      "[Dataset] downsampled raw data - x_data: torch.Size([2048, 1024]), y_data: torch.Size([2048, 1024])\n",
      "[Dataset] x_train: torch.Size([1000, 1024, 2]), y_train: torch.Size([1000, 1024])\n",
      "[Dataset] x_test: torch.Size([200, 1024, 2]), y_test: torch.Size([200, 1024])\n"
     ]
    }
   ],
   "source": [
    "def prepare_data(raw_data, sub, cfg):\n",
    "    x_data = torch.Tensor(raw_data['a'])[:, ::sub]  # (num_trajectory, Nx): (2048, 128) \n",
    "    y_data = torch.Tensor(raw_data['u'])[:, ::sub]  # (num_trajectory, Nx): (2048, 128) \n",
    "    print(f'[Dataset] downsampled raw data - x_data: {x_data.shape}, y_data: {y_data.shape}')\n",
    "\n",
    "    # split into train and test\n",
    "    x_train, y_train = x_data[:cfg.num_train, :], y_data[:cfg.num_train, :]  # (num_trajectory, Nx): (1000, 128)\n",
    "    x_test, y_test = x_data[-cfg.num_test:, :], y_data[-cfg.num_test:, :]\n",
    "\n",
    "    # prepare grid information (optional)\n",
    "    grid_all = np.linspace(0, 1, cfg.resolution_original).reshape(cfg.resolution_original, 1).astype(np.float64)\n",
    "    grid = grid_all[::sub, :]  # downsampled grid, (Nx, 1): (128, 1)\n",
    "    grid = torch.tensor(grid, dtype=torch.float) \n",
    "\n",
    "    # concatenate the spatial grid and the spatial solution\n",
    "    x_train = torch.cat([x_train.reshape(cfg.num_train, cfg.resolution_train, 1), grid.repeat(cfg.num_train, 1, 1)], dim=2) \n",
    "    x_test = torch.cat([x_test.reshape(cfg.num_test, cfg.resolution_train, 1), grid.repeat(cfg.num_test, 1, 1)], dim=2)\n",
    "    print(f'[Dataset] x_train: {x_train.shape}, y_train: {y_train.shape}')\n",
    "    print(f'[Dataset] x_test: {x_test.shape}, y_test: {y_test.shape}')\n",
    "\n",
    "    # create data loader\n",
    "    train_loader = torch.utils.data.DataLoader(\n",
    "        torch.utils.data.TensorDataset(x_train, y_train), \n",
    "        batch_size=cfg.batch_size, \n",
    "        shuffle=True\n",
    "    )\n",
    "    test_loader = torch.utils.data.DataLoader(\n",
    "        torch.utils.data.TensorDataset(x_test, y_test), \n",
    "        batch_size=cfg.batch_size, \n",
    "        shuffle=False\n",
    "    )\n",
    "    return train_loader, test_loader\n",
    "\n",
    "# load training data\n",
    "raw_data = loadmat(cfg.dataset_path)  # a dictionary \n",
    "train_loader, test_loader = prepare_data(raw_data, cfg.sub, cfg)"
   ]
  },
  {
   "cell_type": "markdown",
   "metadata": {},
   "source": [
    "### Model training"
   ]
  },
  {
   "cell_type": "code",
   "execution_count": 5,
   "metadata": {},
   "outputs": [
    {
     "name": "stdout",
     "output_type": "stream",
     "text": [
      "[Training] Epoch: 0, loss_train: 0.0024, loss_test: 0.0030\n",
      "[Training] Epoch: 2, loss_train: 0.0004, loss_test: 0.0011\n",
      "[Training] Epoch: 4, loss_train: 0.0004, loss_test: 0.0008\n",
      "[Training] Epoch: 6, loss_train: 0.0005, loss_test: 0.0009\n",
      "[Training] Epoch: 8, loss_train: 0.0002, loss_test: 0.0004\n",
      "[Training] Epoch: 10, loss_train: 0.0001, loss_test: 0.0005\n",
      "[Training] Epoch: 12, loss_train: 0.0006, loss_test: 0.0005\n",
      "[Training] Epoch: 14, loss_train: 0.0005, loss_test: 0.0005\n",
      "[Training] Epoch: 16, loss_train: 0.0002, loss_test: 0.0005\n",
      "[Training] Epoch: 18, loss_train: 0.0003, loss_test: 0.0003\n",
      "[Training] Finished.\n"
     ]
    }
   ],
   "source": [
    "# define a model\n",
    "model = FNO1d(cfg.modes, cfg.width).cuda()\n",
    "\n",
    "# define a optimizer\n",
    "optimizer = torch.optim.Adam(model.parameters(), lr=cfg.lr, weight_decay=cfg.weight_decay)\n",
    "\n",
    "# define a learning rate scheduler\n",
    "scheduler = torch.optim.lr_scheduler.StepLR(optimizer, step_size=cfg.step_size, gamma=cfg.gamma)\n",
    "\n",
    "# define a loss function\n",
    "# loss_func = LpLoss(size_average=False) # used in original FNO paper\n",
    "loss_func = nn.MSELoss() # MSE loss\n",
    "\n",
    "loss_history_train, loss_history_test = [], []\n",
    "# start training\n",
    "for epoch in range(cfg.num_epoch):\n",
    "    model.train()\n",
    "    for x, y in train_loader:\n",
    "        x, y = x.cuda(), y.cuda()\n",
    "        optimizer.zero_grad()\n",
    "        out = model(x)\n",
    "\n",
    "        loss_train = loss_func(out.view(cfg.batch_size, -1), y.view(cfg.batch_size, -1))\n",
    "        loss_train.backward()\n",
    "\n",
    "        optimizer.step()\n",
    "        loss_history_train.append(loss_train.item())\n",
    "        \n",
    "    scheduler.step()  # change the learning rate\n",
    "    model.eval()\n",
    "    with torch.no_grad():\n",
    "        for x, y in test_loader:\n",
    "            x, y = x.cuda(), y.cuda()\n",
    "            out = model(x)\n",
    "            loss_test = loss_func(out.view(cfg.batch_size, -1), y.view(cfg.batch_size, -1)).item()\n",
    "    loss_history_test.append(loss_test)\n",
    "\n",
    "    if epoch % (cfg.num_epoch // 10) == 0:\n",
    "        print(f'[Training] Epoch: {epoch}, loss_train: {loss_history_train[-1]:.4f}, loss_test: {loss_history_test[-1]:.4f}')\n",
    "\n",
    "torch.save(model, cfg.model_path)\n",
    "print('[Training] Finished.')"
   ]
  },
  {
   "cell_type": "code",
   "execution_count": 6,
   "metadata": {},
   "outputs": [
    {
     "data": {
      "image/png": "[encoded data removed]",
      "text/plain": [
       "<Figure size 640x480 with 1 Axes>"
      ]
     },
     "metadata": {},
     "output_type": "display_data"
    },
    {
     "data": {
      "image/png": "[encoded data removed]",
      "text/plain": [
       "<Figure size 640x480 with 1 Axes>"
      ]
     },
     "metadata": {},
     "output_type": "display_data"
    }
   ],
   "source": [
    "# plot loss history for training and test sets\n",
    "plt.figure()\n",
    "plt.plot(np.arange(len(loss_history_train)), loss_history_train, label='train')\n",
    "plt.xlabel('Epoch')\n",
    "plt.ylabel('Training loss')\n",
    "plt.yscale('log')\n",
    "\n",
    "plt.figure()\n",
    "plt.plot(np.arange(len(loss_history_test)), loss_history_test, label='test')\n",
    "plt.xlabel('Epoch')\n",
    "plt.ylabel('Test loss')\n",
    "plt.yscale('log')"
   ]
  },
  {
   "cell_type": "markdown",
   "metadata": {},
   "source": [
    "### Model evaluation"
   ]
  },
  {
   "cell_type": "code",
   "execution_count": null,
   "metadata": {},
   "outputs": [],
   "source": [
    "resolution_test_list = [64, 256, 1024]\n",
    "\n",
    "for resolution_test in resolution_test_list:\n",
    "    sub = cfg.resolution_original // resolution_test\n",
    "    _, test_loader = prepare_data(raw_data, sub, cfg)\n",
    "    model.eval()\n",
    "    # save all predictions and ground truth\n",
    "    with torch.no_grad():\n",
    "        for x, y in test_loader:\n",
    "            x, y = x.cuda(), y.cuda()\n",
    "            out = model(x)\n",
    "            out = out.cpu().detach().numpy()\n",
    "            y = y.cpu().detach().numpy()\n",
    "\n",
    "    # plot comparison\n",
    "    plt.figure(figsize=(12,4))\n",
    "    plt.plot(pred[0].cpu().numpy(), 'r', label='Prediction')\n",
    "    plt.plot(y_test[0].cpu().numpy(), 'b', label='Ground Truth')\n",
    "    plt.scatter(np.arange(s), pred[0].cpu().numpy(), c='r')\n",
    "    plt.scatter(np.arange(s), y_test[0].cpu().numpy(), c='b')\n",
    "    plt.legend(loc='upper right')\n",
    "    plt.title(f'test_data_res: {test_data_res}')"
   ]
  },
  {
   "cell_type": "code",
   "execution_count": 7,
   "metadata": {},
   "outputs": [
    {
     "ename": "NameError",
     "evalue": "name 'ntest' is not defined",
     "output_type": "error",
     "traceback": [
      "\u001b[0;31m---------------------------------------------------------------------------\u001b[0m",
      "\u001b[0;31mNameError\u001b[0m                                 Traceback (most recent call last)",
      "Cell \u001b[0;32mIn[7], line 11\u001b[0m\n\u001b[1;32m      9\u001b[0m x_data \u001b[38;5;241m=\u001b[39m dataloader\u001b[38;5;241m.\u001b[39mread_field(\u001b[38;5;124m'\u001b[39m\u001b[38;5;124ma\u001b[39m\u001b[38;5;124m'\u001b[39m)[:,::sub]\n\u001b[1;32m     10\u001b[0m y_data \u001b[38;5;241m=\u001b[39m dataloader\u001b[38;5;241m.\u001b[39mread_field(\u001b[38;5;124m'\u001b[39m\u001b[38;5;124mu\u001b[39m\u001b[38;5;124m'\u001b[39m)[:,::sub]\n\u001b[0;32m---> 11\u001b[0m x_test \u001b[38;5;241m=\u001b[39m x_data[\u001b[38;5;241m-\u001b[39m\u001b[43mntest\u001b[49m:,:]\n\u001b[1;32m     12\u001b[0m y_test \u001b[38;5;241m=\u001b[39m y_data[\u001b[38;5;241m-\u001b[39mntest:,:]\n\u001b[1;32m     13\u001b[0m grid \u001b[38;5;241m=\u001b[39m grid_all[::sub,:]\n",
      "\u001b[0;31mNameError\u001b[0m: name 'ntest' is not defined"
     ]
    }
   ],
   "source": [
    "dataloader = MatReader(cfg.dataset_path)\n",
    "\n",
    "# test_data_res_list = [64, 128, 256, 512, 1024, 2048, 4096, 8192]\n",
    "test_data_res_list = [64, 256, 1024]\n",
    "for test_data_res in test_data_res_list:\n",
    "    s = test_data_res\n",
    "    sub = 2**13//s\n",
    "\n",
    "    index = 0\n",
    "    \n",
    "    \n",
    "    t1 = default_timer()\n",
    "    with torch.no_grad():\n",
    "        for x, y in test_loader:\n",
    "            test_l2 = 0\n",
    "            x, y = x.cuda(), y.cuda()\n",
    "    \n",
    "            out = model(x)\n",
    "            pred[index] = out.squeeze()\n",
    "    \n",
    "            test_l2 += loss_func(out.view(1, -1), y.view(1, -1)).item()\n",
    "            # print(index, test_l2)\n",
    "            index = index + 1\n",
    "    t2 = default_timer()\n",
    "    testing_time = t2-t1\n",
    "    \n",
    "    # plot the first sample\n",
    "    plt.figure(figsize=(12,4))\n",
    "    plt.plot(pred[0].cpu().numpy(), 'r', label='Prediction')\n",
    "    plt.plot(y_test[0].cpu().numpy(), 'b', label='Ground Truth')\n",
    "    plt.scatter(np.arange(s), pred[0].cpu().numpy(), c='r')\n",
    "    plt.scatter(np.arange(s), y_test[0].cpu().numpy(), c='b')\n",
    "    plt.legend(loc='upper right')\n",
    "    plt.title(f'test_data_res: {test_data_res}')\n",
    "\n",
    "    print('x_test', x_test.shape, 'y_test', y_test.shape, 'pred', pred.shape)\n",
    "    # scipy.io.savemat('pred/burger_test.mat', mdict={'pred': pred.cpu().numpy()})\n",
    "    scipy.io.savemat(save_results_to+'burger_test_'+str(test_data_res)+'.mat', \n",
    "                      mdict={'x_test': dataloader.read_field('a')[-ntest:,::sub].numpy(),\n",
    "                            'y_test': y_test.numpy(), \n",
    "                            'y_pred': pred.cpu().numpy(),\n",
    "                            'testing_time': testing_time})\n"
   ]
  },
  {
   "cell_type": "markdown",
   "metadata": {},
   "source": [
    "# Reference\n",
    "\n",
    "- FNO paper: Li, Z., Kovachki, N., Azizzadenesheli, K., Liu, B., Bhattacharya, K., Stuart, A., & Anandkumar, A. (2020). Fourier neural operator for parametric partial differential equations. arXiv preprint arXiv:2010.08895\n",
    "- FNO official github: https://github.com/neuraloperator/neuraloperator/?tab=readme-ov-file\n",
    "- FNO tutorial: https://github.com/Ceyron/machine-learning-and-simulation/blob/main/english/neural_operators/simple_FNO_in_JAX.ipynb\n",
    "- DeepONet & FNO: https://github.com/lu-group/deeponet-fno\n",
    "- FNO documentation: https://neuraloperator.github.io/neuraloperator/dev/user_guide/neural_operators.html\n",
    "- FNO blog: https://zongyi-li.github.io/blog/2020/fourier-pde/\n",
    "- FNO news: https://www.technologyreview.com/2020/10/30/1011435/ai-fourier-neural-network-cracks-navier-stokes-and-partial-differential-equations/\n",
    "- Wikipedia: https://en.wikipedia.org/wiki/Neural_operators\n",
    "- Julia: https://docs.sciml.ai/NeuralOperators/stable/introduction/"
   ]
  },
  {
   "cell_type": "markdown",
   "metadata": {},
   "source": []
  }
 ],
 "metadata": {
  "kernelspec": {
   "display_name": "Python 3 (ipykernel)",
   "language": "python",
   "name": "python3"
  },
  "language_info": {
   "codemirror_mode": {
    "name": "ipython",
    "version": 3
   },
   "file_extension": ".py",
   "mimetype": "text/x-python",
   "name": "python",
   "nbconvert_exporter": "python",
   "pygments_lexer": "ipython3",
   "version": "3.9.16"
  },
  "widgets": {
   "application/vnd.jupyter.widget-state+json": {
    "state": {},
    "version_major": 2,
    "version_minor": 0
   }
  }
 },
 "nbformat": 4,
 "nbformat_minor": 4
}
